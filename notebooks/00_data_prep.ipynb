{
 "cells": [
  {
   "cell_type": "markdown",
   "metadata": {},
   "source": [
    "## Pretratamiento"
   ]
  },
  {
   "cell_type": "code",
   "execution_count": 1,
   "metadata": {},
   "outputs": [],
   "source": [
    "# Importamos las librerias \n",
    "import pandas as pd \n",
    "import numpy as np \n",
    "import datetime as dt\n",
    "from importlib import reload\n"
   ]
  },
  {
   "cell_type": "code",
   "execution_count": 2,
   "metadata": {},
   "outputs": [],
   "source": [
    "# --- Parámetros globales ---\n",
    "TICK = 0.25\n",
    "EU_IDX = (108, 185)\n",
    "USA_IDX = (186, 264)\n",
    "\n",
    "# --- Helpers sesión por índice ---\n",
    "def add_session_tag_by_index(df, eu=EU_IDX, usa=USA_IDX, idx_col=\"idx_in_session\"):\n",
    "    out = df.copy()\n",
    "    ii = out[idx_col].to_numpy()\n",
    "    tag = np.full(len(out), \"ASIA\", dtype=object)\n",
    "    tag[(ii>=eu[0]) & (ii<=eu[1])]  = \"EU\"\n",
    "    tag[(ii>=usa[0]) & (ii<=usa[1])] = \"USA\"\n",
    "    out[\"session_tag\"] = tag\n",
    "    return out"
   ]
  },
  {
   "cell_type": "markdown",
   "metadata": {},
   "source": [
    "### Carga de datos"
   ]
  },
  {
   "cell_type": "code",
   "execution_count": 3,
   "metadata": {},
   "outputs": [
    {
     "data": {
      "text/plain": [
       "((282944, 29),\n",
       "                        Time     Open    High     Low    Close  Delta  Volume  \\\n",
       " 0 2021-01-04 00:00:00+01:00  3748.75  3755.5  3742.5  3746.00   -955    7355   \n",
       " 1 2021-01-04 00:05:00+01:00  3746.25  3750.0  3745.5  3749.75    274    1746   \n",
       " \n",
       "        MVC  NewSession  NewWeek  ...  USA_IBH  USA_IBL         VWAP  VWAP_std  \\\n",
       " 0  3748.75        True     True  ...   3760.0  3726.25  3748.000000  0.000000   \n",
       " 1  3746.25       False    False  ...   3760.0  3726.25  3748.079936  1.835032   \n",
       " \n",
       "       VWAP_p1s     VWAP_m1s  VAH_D1  POC_D1  VAL_D1  session_tag  \n",
       " 0  3748.000000  3748.000000     NaN     NaN     NaN         ASIA  \n",
       " 1  3749.914968  3746.244904     NaN     NaN     NaN         ASIA  \n",
       " \n",
       " [2 rows x 29 columns])"
      ]
     },
     "execution_count": 3,
     "metadata": {},
     "output_type": "execute_result"
    }
   ],
   "source": [
    "from ppz.io.mongo import ensure_indexes, read_klines\n",
    "import ppz.features.zones as z; reload(z)\n",
    "import ppz.features.vp as vp; reload(vp)\n",
    "\n",
    "ensure_indexes()\n",
    "df = read_klines(start=\"2021-01-01\", end=\"2024-12-31\", include_of=True).sort_values(\"Time\").reset_index(drop=True)\n",
    "\n",
    "# Índices intradía, ATR, PDH/PDL, IB USA (fijo por índice), VWAP±σ\n",
    "df = z.add_session_indices(df)\n",
    "df = z.compute_atr(df, period=14)\n",
    "df = z.compute_pdh_pdl_prev(df)\n",
    "df = z.compute_usa_ib(df, ib_bars=12, fixed_open_idx=USA_IDX[0])\n",
    "df = z.compute_vwap_and_bands(df, sigma=1.0)\n",
    "\n",
    "# VAH/POC/VAL prev (de perfil diario)\n",
    "df = vp.compute_vah_poc_val_prev(df, tick_size=TICK)\n",
    "\n",
    "# Tag de sesión por índice\n",
    "df = add_session_tag_by_index(df)\n",
    "df.shape, df.head(2)"
   ]
  },
  {
   "cell_type": "code",
   "execution_count": 4,
   "metadata": {},
   "outputs": [
    {
     "name": "stdout",
     "output_type": "stream",
     "text": [
      "Rango: 2021-01-04 00:00:00+01:00 → 2024-12-31 00:55:00+01:00\n",
      "Filas: 282944 Duplicados Time: 0\n",
      "Nulos por columna:\n",
      " Time                0\n",
      "Open                0\n",
      "High                0\n",
      "Low                 0\n",
      "Close               0\n",
      "Delta               0\n",
      "Volume              0\n",
      "MVC                 0\n",
      "NewSession          0\n",
      "NewWeek             0\n",
      "NewMonth            0\n",
      "Bid                 0\n",
      "Ask                 0\n",
      "session_id          0\n",
      "idx_in_session      0\n",
      "ATR_14              1\n",
      "PDH_prev          273\n",
      "PDL_prev          273\n",
      "usa_open_idx        0\n",
      "USA_IBH           378\n",
      "USA_IBL           378\n",
      "VWAP                0\n",
      "VWAP_std            0\n",
      "VWAP_p1s            0\n",
      "VWAP_m1s            0\n",
      "VAH_D1            273\n",
      "POC_D1            273\n",
      "VAL_D1            273\n",
      "session_tag         0\n",
      "dtype: int64\n"
     ]
    }
   ],
   "source": [
    "# Orden, duplicados, nulos, rango temporal\n",
    "df = df.sort_values(\"Time\").reset_index(drop=True)\n",
    "print(\"Rango:\", df[\"Time\"].min(), \"→\", df[\"Time\"].max())\n",
    "print(\"Filas:\", len(df), \"Duplicados Time:\", df[\"Time\"].duplicated().sum())\n",
    "print(\"Nulos por columna:\\n\", df.isna().sum())\n"
   ]
  },
  {
   "cell_type": "code",
   "execution_count": 5,
   "metadata": {},
   "outputs": [
    {
     "name": "stderr",
     "output_type": "stream",
     "text": [
      "C:\\Users\\jmbf2\\OneDrive\\Trading\\Machine Learning\\ZoneBasedPricePrediction\\src\\ppz\\utils\\schema.py:34: FutureWarning: is_datetime64tz_dtype is deprecated and will be removed in a future version. Check `isinstance(dtype, pd.DatetimeTZDtype)` instead.\n",
      "  if is_datetime64tz_dtype(s):\n"
     ]
    }
   ],
   "source": [
    "from ppz.utils.schema import (\n",
    "    ensure_df_base_schema,\n",
    "    ensure_events_schema,\n",
    "    ensure_events_labeled_schema,\n",
    "    assert_has_columns,\n",
    ")\n",
    "\n",
    "df = ensure_df_base_schema(df, compute_vwap=True)\n",
    "assert_has_columns(df, [\"session_id\",\"idx_in_session\",\"VWAP\",\"session_tag\"], \"df\")"
   ]
  },
  {
   "cell_type": "markdown",
   "metadata": {},
   "source": [
    "### Zonas y otros parametros"
   ]
  },
  {
   "cell_type": "code",
   "execution_count": 6,
   "metadata": {},
   "outputs": [
    {
     "name": "stdout",
     "output_type": "stream",
     "text": [
      "Missing: []\n"
     ]
    }
   ],
   "source": [
    "import ppz.features.zones as z\n",
    "reload(z)\n",
    "\n",
    "# 1) índices intradía y ATR\n",
    "df = z.add_session_indices(df)                    # crea session_id, idx_in_session\n",
    "df = z.compute_atr(df, period=14)\n",
    "\n",
    "# 2) niveles diarios previos\n",
    "df = z.compute_pdh_pdl_prev(df)\n",
    "\n",
    "# 3) IB USA (5m: open fijo idx 186) y VWAP ±σ\n",
    "df = z.compute_usa_ib(df, ib_bars=12, fixed_open_idx=186)\n",
    "df = z.compute_vwap_and_bands(df, sigma=1.0)\n",
    "\n",
    "# 4) sanity check de columnas necesarias\n",
    "needed = [\"PDH_prev\",\"PDL_prev\",\"USA_IBH\",\"USA_IBL\",\"VWAP\",\"VWAP_p1s\",\"VWAP_m1s\"]\n",
    "missing = [c for c in needed if c not in df.columns]\n",
    "print(\"Missing:\", missing)  # debería ser []\n"
   ]
  },
  {
   "cell_type": "markdown",
   "metadata": {},
   "source": [
    "### Eventos"
   ]
  },
  {
   "cell_type": "code",
   "execution_count": 7,
   "metadata": {},
   "outputs": [
    {
     "data": {
      "text/plain": [
       "(26122,\n",
       " zone_type\n",
       " VWAP       7605\n",
       " USA_IBL    3595\n",
       " USA_IBH    3434\n",
       " POC_D1     3389\n",
       " VAH_D1     2450\n",
       " Name: count, dtype: int64)"
      ]
     },
     "execution_count": 7,
     "metadata": {},
     "output_type": "execute_result"
    }
   ],
   "source": [
    "from ppz.features.zones import EventSpec, build_event_table\n",
    "\n",
    "zones = [\n",
    "    EventSpec(\"PDH_prev\",\"PDH_prev\"),\n",
    "    EventSpec(\"PDL_prev\",\"PDL_prev\"),\n",
    "    EventSpec(\"USA_IBH\",\"USA_IBH\"),\n",
    "    EventSpec(\"USA_IBL\",\"USA_IBL\"),\n",
    "    EventSpec(\"VWAP\",\"VWAP\"),\n",
    "    EventSpec(\"VAH_D1\",\"VAH_D1\"),\n",
    "    EventSpec(\"POC_D1\",\"POC_D1\"),\n",
    "    EventSpec(\"VAL_D1\",\"VAL_D1\"),\n",
    "]\n",
    "\n",
    "zone_weights = {\n",
    "    \"PDH_prev\":1.00, \"PDL_prev\":1.00,\n",
    "    \"USA_IBH\":0.95, \"USA_IBL\":0.95,\n",
    "    \"POC_D1\":0.92, \"VAH_D1\":0.90, \"VAL_D1\":0.90,\n",
    "    \"VWAP\":0.85\n",
    "}\n",
    "\n",
    "events_df = build_event_table(\n",
    "    df, zones, r_prox=6, cooldown=10, tick_size=TICK,\n",
    "    mode=\"cross\", dedupe=\"priority\", zone_weights=zone_weights\n",
    ")\n",
    "\n",
    "# distancia a entero de ticks\n",
    "events_df[\"dist_ticks\"] = np.floor(events_df[\"dist_ticks\"] + 0.5).astype(\"int16\")\n",
    "len(events_df), events_df.zone_type.value_counts().head()\n"
   ]
  },
  {
   "cell_type": "markdown",
   "metadata": {},
   "source": [
    "### Calculo POC / VAH / VAL por sesión usando Ask[]/Bid[] de cada vela. Luego asigna esos niveles a la sesión siguiente como *_D1."
   ]
  },
  {
   "cell_type": "code",
   "execution_count": 8,
   "metadata": {},
   "outputs": [
    {
     "data": {
      "text/html": [
       "<div>\n",
       "<style scoped>\n",
       "    .dataframe tbody tr th:only-of-type {\n",
       "        vertical-align: middle;\n",
       "    }\n",
       "\n",
       "    .dataframe tbody tr th {\n",
       "        vertical-align: top;\n",
       "    }\n",
       "\n",
       "    .dataframe thead th {\n",
       "        text-align: right;\n",
       "    }\n",
       "</style>\n",
       "<table border=\"1\" class=\"dataframe\">\n",
       "  <thead>\n",
       "    <tr style=\"text-align: right;\">\n",
       "      <th></th>\n",
       "      <th>session_id</th>\n",
       "      <th>VAH_D1</th>\n",
       "      <th>POC_D1</th>\n",
       "      <th>VAL_D1</th>\n",
       "    </tr>\n",
       "  </thead>\n",
       "  <tbody>\n",
       "    <tr>\n",
       "      <th>0</th>\n",
       "      <td>1</td>\n",
       "      <td>NaN</td>\n",
       "      <td>NaN</td>\n",
       "      <td>NaN</td>\n",
       "    </tr>\n",
       "    <tr>\n",
       "      <th>1</th>\n",
       "      <td>1</td>\n",
       "      <td>NaN</td>\n",
       "      <td>NaN</td>\n",
       "      <td>NaN</td>\n",
       "    </tr>\n",
       "    <tr>\n",
       "      <th>2</th>\n",
       "      <td>1</td>\n",
       "      <td>NaN</td>\n",
       "      <td>NaN</td>\n",
       "      <td>NaN</td>\n",
       "    </tr>\n",
       "    <tr>\n",
       "      <th>3</th>\n",
       "      <td>1</td>\n",
       "      <td>NaN</td>\n",
       "      <td>NaN</td>\n",
       "      <td>NaN</td>\n",
       "    </tr>\n",
       "    <tr>\n",
       "      <th>4</th>\n",
       "      <td>1</td>\n",
       "      <td>NaN</td>\n",
       "      <td>NaN</td>\n",
       "      <td>NaN</td>\n",
       "    </tr>\n",
       "  </tbody>\n",
       "</table>\n",
       "</div>"
      ],
      "text/plain": [
       "   session_id  VAH_D1  POC_D1  VAL_D1\n",
       "0           1     NaN     NaN     NaN\n",
       "1           1     NaN     NaN     NaN\n",
       "2           1     NaN     NaN     NaN\n",
       "3           1     NaN     NaN     NaN\n",
       "4           1     NaN     NaN     NaN"
      ]
     },
     "execution_count": 8,
     "metadata": {},
     "output_type": "execute_result"
    }
   ],
   "source": [
    "from importlib import reload\n",
    "import ppz.features.vp as vp\n",
    "reload(vp)\n",
    "\n",
    "tick = 0.25\n",
    "df = vp.compute_vah_poc_val_prev(df, tick_size=tick)  # añade VAH_D1, POC_D1, VAL_D1\n",
    "df[[\"session_id\",\"VAH_D1\",\"POC_D1\",\"VAL_D1\"]].head()\n"
   ]
  },
  {
   "cell_type": "markdown",
   "metadata": {},
   "source": [
    "#### Los añadimos al detector de zonas"
   ]
  },
  {
   "cell_type": "code",
   "execution_count": 9,
   "metadata": {},
   "outputs": [
    {
     "data": {
      "text/plain": [
       "(26122,\n",
       " zone_type\n",
       " VWAP       7605\n",
       " USA_IBL    3595\n",
       " USA_IBH    3434\n",
       " POC_D1     3389\n",
       " VAH_D1     2450\n",
       " Name: count, dtype: int64)"
      ]
     },
     "execution_count": 9,
     "metadata": {},
     "output_type": "execute_result"
    }
   ],
   "source": [
    "# Añadimos al detector de zonas\n",
    "from ppz.features.zones import EventSpec, build_event_table\n",
    "\n",
    "zones = [\n",
    "    EventSpec(\"PDH_prev\",\"PDH_prev\"),\n",
    "    EventSpec(\"PDL_prev\",\"PDL_prev\"),\n",
    "    EventSpec(\"USA_IBH\",\"USA_IBH\"),\n",
    "    EventSpec(\"USA_IBL\",\"USA_IBL\"),\n",
    "    EventSpec(\"VWAP\",\"VWAP\"),\n",
    "    # EventSpec(\"VWAP_p1s\",\"VWAP_p1s\"),   # opcional\n",
    "    # EventSpec(\"VWAP_m1s\",\"VWAP_m1s\"),   # opcional\n",
    "    EventSpec(\"VAH_D1\",\"VAH_D1\"),\n",
    "    EventSpec(\"POC_D1\",\"POC_D1\"),\n",
    "    EventSpec(\"VAL_D1\",\"VAL_D1\"),\n",
    "]\n",
    "\n",
    "zone_weights = {\n",
    "    \"PDH_prev\": 1.00, \"PDL_prev\": 1.00,\n",
    "    \"USA_IBH\": 0.95, \"USA_IBL\": 0.95,\n",
    "    \"VAH_D1\": 0.90, \"POC_D1\": 0.92, \"VAL_D1\": 0.90,\n",
    "    \"VWAP\": 0.85, \"VWAP_p1s\": 0.80, \"VWAP_m1s\": 0.80,\n",
    "}\n",
    "events_df = build_event_table(df, zones, r_prox=6, cooldown=10, tick_size=tick,\n",
    "                              mode=\"cross\", dedupe=\"priority\", zone_weights=zone_weights)\n",
    "len(events_df), events_df.zone_type.value_counts().head()\n"
   ]
  },
  {
   "cell_type": "markdown",
   "metadata": {},
   "source": [
    "### Etiquetamos los eventos segun: rebound, brealout, none (significa que en el rango de velas considerados no se puede decir ni que rechaza ni que rompe)"
   ]
  },
  {
   "cell_type": "code",
   "execution_count": 10,
   "metadata": {},
   "outputs": [
    {
     "name": "stdout",
     "output_type": "stream",
     "text": [
      "Events (ALL) -> 26122\n"
     ]
    }
   ],
   "source": [
    "# --- 0) Asegura que tenemos events_df ALL (sin filtro USA) ---\n",
    "# Si tu 'events_first_pass_2021_2024.parquet' ya estaba filtrado por USA,\n",
    "# RECONSTRÚYELO antes de seguir (sin aplicar usa_mask).\n",
    "# Si lo tienes en memoria como ALL, omite esto y usa el que ya creaste.\n",
    "try:\n",
    "    events_df_all = pd.read_parquet(\"data/processed/events/events_first_pass_2021_2024_ALL.parquet\")\n",
    "except FileNotFoundError:\n",
    "    # Si no existe el ALL en disco, usamos el events_df actual (asumiendo sin filtro USA)\n",
    "    events_df_all = events_df.copy()\n",
    "\n",
    "print(\"Events (ALL) ->\", len(events_df_all))"
   ]
  },
  {
   "cell_type": "code",
   "execution_count": 11,
   "metadata": {},
   "outputs": [],
   "source": [
    "# --- 1) Asegura columnas necesarias en df ---\n",
    "need = {\"session_id\",\"idx_in_session\",\"Open\",\"High\",\"Low\",\"Close\",\"VWAP\",\"ATR_14\"}\n",
    "missing = need - set(df.columns)\n",
    "if missing:\n",
    "    from ppz.features import zones as z\n",
    "    reload(z)\n",
    "    if \"session_id\" not in df or \"idx_in_session\" not in df:\n",
    "        df = z.add_session_indices(df)\n",
    "    if \"ATR_14\" not in df:\n",
    "        df = z.compute_atr(df, period=14)\n",
    "    if \"VWAP\" not in df:\n",
    "        df = z.compute_vwap_and_bands(df, sigma=1.0)\n",
    "    missing2 = need - set(df.columns)\n",
    "    assert not missing2, f\"Faltan columnas incluso tras recomputar: {missing2}\""
   ]
  },
  {
   "cell_type": "code",
   "execution_count": 12,
   "metadata": {},
   "outputs": [
    {
     "name": "stdout",
     "output_type": "stream",
     "text": [
      "Distribución de etiquetas (ALL):\n",
      "label\n",
      "rebound     14355\n",
      "none         6402\n",
      "breakout     5365\n",
      "Name: count, dtype: int64\n"
     ]
    }
   ],
   "source": [
    "# --- 2) Labeling (ALL) ---\n",
    "import ppz.labeling.events as lab; reload(lab)\n",
    "from dataclasses import asdict\n",
    "from pathlib import Path\n",
    "\n",
    "\n",
    "params = lab.LabelParams(\n",
    "    tick_size=TICK, H_horizon_bars=12,\n",
    "    p_inval_ticks=6, X_rebound_ticks=10, Y_break_confirm_ticks=16,\n",
    "    restrict_same_session=True\n",
    ")\n",
    "\n",
    "labels_df = lab.label_events(df, events_df, params)\n",
    "events_labeled = lab.join_labels_with_events(events_df, labels_df)\n",
    "\n",
    "# Añade session_tag a los eventos\n",
    "events_labeled[\"session_tag\"] = events_labeled[\"idx\"].map(df[\"session_tag\"])\n",
    "\n",
    "print(\"Distribución de etiquetas (ALL):\")\n",
    "print(events_labeled[\"label\"].value_counts(dropna=False))\n",
    "\n",
    "# --- Guardar ALL / EU+USA / USA ---\n",
    "Path(\"data/processed/events\").mkdir(parents=True, exist_ok=True)\n",
    "Path(\"data/interim\").mkdir(parents=True, exist_ok=True)\n",
    "\n",
    "events_labeled.to_parquet(\"data/processed/events/events_labeled_2021_2024_ALL.parquet\",\n",
    "                          engine=\"pyarrow\", compression=\"zstd\", index=False)\n",
    "\n",
    "ev_euusa = events_labeled[events_labeled[\"session_tag\"].isin([\"EU\",\"USA\"])].reset_index(drop=True)\n",
    "ev_usa   = events_labeled[events_labeled[\"session_tag\"]==\"USA\"].reset_index(drop=True)\n",
    "\n",
    "ev_euusa.to_parquet(\"data/processed/events/events_labeled_2021_2024_EUUSA.parquet\",\n",
    "                    engine=\"pyarrow\", compression=\"zstd\", index=False)\n",
    "ev_usa.to_parquet(\"data/processed/events/events_labeled_2021_2024_USA.parquet\",\n",
    "                  engine=\"pyarrow\", compression=\"zstd\", index=False)\n",
    "\n",
    "# Base sin Ask/Bid pesada (opcional)\n",
    "df_light = df.drop(columns=[c for c in [\"Ask\",\"Bid\"] if c in df.columns])\n",
    "df_light.to_parquet(\"data/interim/ES_5m_2021_2024_light.parquet\",\n",
    "                    engine=\"pyarrow\", compression=\"zstd\", index=False)\n"
   ]
  },
  {
   "cell_type": "markdown",
   "metadata": {},
   "source": [
    "### Construir dataset supervisado X,y (ALL y EU+USA) y guardar"
   ]
  },
  {
   "cell_type": "code",
   "execution_count": 18,
   "metadata": {},
   "outputs": [
    {
     "name": "stdout",
     "output_type": "stream",
     "text": [
      "(df: 'pd.DataFrame', idx: 'Optional[Sequence[int]]' = None, *, tick_size: 'float' = 0.25) -> 'pd.DataFrame'\n"
     ]
    },
    {
     "name": "stderr",
     "output_type": "stream",
     "text": [
      "C:\\Users\\jmbf2\\OneDrive\\Trading\\Machine Learning\\ZoneBasedPricePrediction\\src\\ppz\\features\\of_imbalance.py:46: RuntimeWarning: All-NaN slice encountered\n",
      "  (np.nanmax(buy_ratio)  >= k_ext) if np.isfinite(np.nanmax(buy_ratio))  else False\n",
      "C:\\Users\\jmbf2\\OneDrive\\Trading\\Machine Learning\\ZoneBasedPricePrediction\\src\\ppz\\features\\of_imbalance.py:48: RuntimeWarning: All-NaN slice encountered\n",
      "  (np.nanmax(sell_ratio) >= k_ext) if np.isfinite(np.nanmax(sell_ratio)) else False\n"
     ]
    }
   ],
   "source": [
    "%load_ext autoreload\n",
    "%autoreload 2\n",
    "\n",
    "from importlib import reload\n",
    "import ppz.features.mvc as mvc; reload(mvc)\n",
    "import inspect; print(inspect.signature(mvc.compute_mvc_features))\n",
    "# debe mostrar: (df, idx: Optional[Sequence[int]] = None, *, tick_size: float = 0.25)\n",
    "\n",
    "import ppz.pipelines.build_dataset as bd; reload(bd)\n",
    "\n",
    "X_all, y_all = bd.make_supervised_from_events(\n",
    "    df, events_labeled,\n",
    "    tick_size=TICK, n_short=20, n_long=60,\n",
    "    L_prev_touches=60, r_touch_ticks=6,\n",
    "    drop_none=False\n",
    ")\n",
    "\n"
   ]
  },
  {
   "cell_type": "code",
   "execution_count": 19,
   "metadata": {},
   "outputs": [
    {
     "name": "stderr",
     "output_type": "stream",
     "text": [
      "C:\\Users\\jmbf2\\OneDrive\\Trading\\Machine Learning\\ZoneBasedPricePrediction\\src\\ppz\\features\\of_imbalance.py:46: RuntimeWarning: All-NaN slice encountered\n",
      "  (np.nanmax(buy_ratio)  >= k_ext) if np.isfinite(np.nanmax(buy_ratio))  else False\n",
      "C:\\Users\\jmbf2\\OneDrive\\Trading\\Machine Learning\\ZoneBasedPricePrediction\\src\\ppz\\features\\of_imbalance.py:48: RuntimeWarning: All-NaN slice encountered\n",
      "  (np.nanmax(sell_ratio) >= k_ext) if np.isfinite(np.nanmax(sell_ratio)) else False\n",
      "C:\\Users\\jmbf2\\OneDrive\\Trading\\Machine Learning\\ZoneBasedPricePrediction\\src\\ppz\\features\\of_imbalance.py:46: RuntimeWarning: All-NaN slice encountered\n",
      "  (np.nanmax(buy_ratio)  >= k_ext) if np.isfinite(np.nanmax(buy_ratio))  else False\n",
      "C:\\Users\\jmbf2\\OneDrive\\Trading\\Machine Learning\\ZoneBasedPricePrediction\\src\\ppz\\features\\of_imbalance.py:48: RuntimeWarning: All-NaN slice encountered\n",
      "  (np.nanmax(sell_ratio) >= k_ext) if np.isfinite(np.nanmax(sell_ratio)) else False\n"
     ]
    },
    {
     "data": {
      "text/plain": [
       "((26122, 33),\n",
       " label\n",
       " rebound     14355\n",
       " none         6402\n",
       " breakout     5365\n",
       " Name: count, dtype: int64,\n",
       " (15854, 32),\n",
       " label\n",
       " rebound     8454\n",
       " breakout    3897\n",
       " none        3503\n",
       " Name: count, dtype: int64)"
      ]
     },
     "execution_count": 19,
     "metadata": {},
     "output_type": "execute_result"
    }
   ],
   "source": [
    "import ppz.pipelines.build_dataset as bd; reload(bd)\n",
    "\n",
    "# ALL\n",
    "X_all, y_all = bd.make_supervised_from_events(\n",
    "    df, events_labeled,\n",
    "    tick_size=TICK, n_short=20, n_long=60,\n",
    "    L_prev_touches=60, r_touch_ticks=6,\n",
    "    drop_none=False\n",
    ")\n",
    "# EU+USA\n",
    "X_euusa, y_euusa = bd.make_supervised_from_events(\n",
    "    df, ev_euusa,\n",
    "    tick_size=TICK, n_short=20, n_long=60,\n",
    "    L_prev_touches=60, r_touch_ticks=6,\n",
    "    drop_none=False\n",
    ")\n",
    "\n",
    "# Tipos compactos\n",
    "def compact(dfX):\n",
    "    num = dfX.select_dtypes(include=[np.number]).columns\n",
    "    dfX[num] = dfX[num].astype(np.float32, errors=\"ignore\")\n",
    "    for c in dfX.columns:\n",
    "        if dfX[c].dtype==bool: dfX[c]=dfX[c].astype(np.int8)\n",
    "    return dfX\n",
    "\n",
    "X_all = compact(X_all); X_euusa = compact(X_euusa)\n",
    "\n",
    "# Guardar (features + target juntos para reproducibilidad)\n",
    "Xa = X_all.copy(); Xa[\"target\"] = y_all.values\n",
    "Xe = X_euusa.copy(); Xe[\"target\"] = y_euusa.values\n",
    "\n",
    "# crea la carpeta (y padres) si no existe\n",
    "Path(\"data/processed/features\").mkdir(parents=True, exist_ok=True)\n",
    "\n",
    "Xa.to_parquet(\"data/processed/features/supervised_ALL.parquet\",\n",
    "              engine=\"pyarrow\", compression=\"zstd\", index=False)\n",
    "Xe.to_parquet(\"data/processed/features/supervised_EUUSA.parquet\",\n",
    "              engine=\"pyarrow\", compression=\"zstd\", index=False)\n",
    "\n",
    "X_all.shape, y_all.value_counts(), X_euusa.shape, y_euusa.value_counts()\n"
   ]
  },
  {
   "cell_type": "markdown",
   "metadata": {},
   "source": [
    "## Añadimos caracteriscas de Order Flow"
   ]
  },
  {
   "cell_type": "code",
   "execution_count": 25,
   "metadata": {},
   "outputs": [
    {
     "name": "stdout",
     "output_type": "stream",
     "text": [
      "CWD fijado a: c:\\Users\\jmbf2\\OneDrive\\Trading\\Machine Learning\\ZoneBasedPricePrediction\n"
     ]
    }
   ],
   "source": [
    "# opcional: fija CWD al raíz del repo (si el notebook vive en ./notebooks/)\n",
    "import os, sys\n",
    "from pathlib import Path\n",
    "repo_root = Path(__file__).resolve().parents[1] if \"__file__\" in globals() else Path.cwd().parents[0]\n",
    "os.chdir(repo_root)\n",
    "print(\"CWD fijado a:\", os.getcwd())\n"
   ]
  },
  {
   "cell_type": "code",
   "execution_count": 26,
   "metadata": {},
   "outputs": [
    {
     "name": "stderr",
     "output_type": "stream",
     "text": [
      "c:\\Users\\jmbf2\\OneDrive\\Trading\\Machine Learning\\ZoneBasedPricePrediction\\notebooks\\../src\\ppz\\features\\of_imbalance.py:73: RuntimeWarning: Mean of empty slice.\n",
      "  imb_buy_strength_avg=float(buy_strength[buy_strength>0].mean() if buy_cnt>0 else 0.0),\n",
      "c:\\Users\\jmbf2\\anaconda3\\envs\\ML\\lib\\site-packages\\numpy\\core\\_methods.py:129: RuntimeWarning: invalid value encountered in scalar divide\n",
      "  ret = ret.dtype.type(ret / rcount)\n",
      "c:\\Users\\jmbf2\\OneDrive\\Trading\\Machine Learning\\ZoneBasedPricePrediction\\notebooks\\../src\\ppz\\features\\of_imbalance.py:74: RuntimeWarning: Mean of empty slice.\n",
      "  imb_sell_strength_avg=float(sell_strength[sell_strength>0].mean() if sell_cnt>0 else 0.0),\n"
     ]
    },
    {
     "data": {
      "text/plain": [
       "('data/processed/features/supervised_EUUSA_EXT.parquet',\n",
       " (8541, 31),\n",
       " label\n",
       " rebound     4173\n",
       " breakout    2286\n",
       " none        2082\n",
       " Name: count, dtype: int64)"
      ]
     },
     "execution_count": 26,
     "metadata": {},
     "output_type": "execute_result"
    }
   ],
   "source": [
    "from importlib import reload\n",
    "import ppz.pipelines.build_dataset as bd; reload(bd)\n",
    "\n",
    "# Carga base\n",
    "df = pd.read_parquet(\"data/interim/ES_5m_2021_2024.parquet\")\n",
    "events_labeled = pd.read_parquet(\"data/processed/events/events_labeled_2021_2024.parquet\")\n",
    "\n",
    "# Construye features extendidas (MVC + OF)\n",
    "X_ext, y_ext = bd.make_supervised_from_events(\n",
    "    df, events_labeled,\n",
    "    tick_size=0.25, n_short=20, n_long=60,\n",
    "    L_prev_touches=60, r_touch_ticks=6,\n",
    "    drop_none=False,\n",
    "    add_mvc=True,\n",
    "    add_orderflow=True,\n",
    "    of_k=3.0, of_k_ext=5.0,\n",
    ")\n",
    "\n",
    "# Tipos compactos\n",
    "num = X_ext.select_dtypes(include=[np.number]).columns\n",
    "X_ext[num] = X_ext[num].astype(np.float32)\n",
    "\n",
    "# Guardar dataset extendido\n",
    "outp = \"data/processed/features/supervised_EUUSA_EXT.parquet\"\n",
    "Xe = X_ext.copy(); Xe[\"target\"] = y_ext.values\n",
    "Xe.to_parquet(outp, engine=\"pyarrow\", compression=\"zstd\", index=False)\n",
    "outp, X_ext.shape, y_ext.value_counts()\n"
   ]
  },
  {
   "cell_type": "code",
   "execution_count": null,
   "metadata": {},
   "outputs": [],
   "source": []
  }
 ],
 "metadata": {
  "kernelspec": {
   "display_name": "ML",
   "language": "python",
   "name": "python3"
  },
  "language_info": {
   "codemirror_mode": {
    "name": "ipython",
    "version": 3
   },
   "file_extension": ".py",
   "mimetype": "text/x-python",
   "name": "python",
   "nbconvert_exporter": "python",
   "pygments_lexer": "ipython3",
   "version": "3.10.10"
  }
 },
 "nbformat": 4,
 "nbformat_minor": 2
}
